{
 "cells": [
  {
   "cell_type": "markdown",
   "metadata": {
    "collapsed": true,
    "pycharm": {
     "name": "#%% md\n"
    }
   },
   "source": [
    "CPython - интерпретатор языка Python написанный на C.\n",
    "\n",
    "Выполнение программы написанной на языке Python состоит из 3 этапов:\n",
    "1. Инициализация\n",
    "2. Компиляция\n",
    "3. Интерпретация"
   ]
  },
  {
   "cell_type": "markdown",
   "source": [
    "Интерпретация\n",
    "\n",
    "На этапе инициализации CPython инициализирует структуры данных,\n",
    "необходимые для запуска Python. Он также подготавливает такие вещи,\n",
    "как встроенные типы, настраивает и загружает встроенные модули,\n",
    "настраивает систему импорта и делает многое другое. Это очень\n",
    "важный этап, который исследователи CPython часто упускают из виду\n",
    "из-за его служебного характера.\n",
    "\n"
   ],
   "metadata": {
    "collapsed": false,
    "pycharm": {
     "name": "#%% md\n"
    }
   }
  }
 ],
 "metadata": {
  "kernelspec": {
   "display_name": "Python 3",
   "language": "python",
   "name": "python3"
  },
  "language_info": {
   "codemirror_mode": {
    "name": "ipython",
    "version": 2
   },
   "file_extension": ".py",
   "mimetype": "text/x-python",
   "name": "python",
   "nbconvert_exporter": "python",
   "pygments_lexer": "ipython2",
   "version": "2.7.6"
  }
 },
 "nbformat": 4,
 "nbformat_minor": 0
}