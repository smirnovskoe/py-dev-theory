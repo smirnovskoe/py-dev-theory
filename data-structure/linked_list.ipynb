{
 "cells": [
  {
   "cell_type": "markdown",
   "metadata": {
    "collapsed": true,
    "pycharm": {
     "name": "#%% md\n"
    }
   },
   "source": [
    "1. Простая реализация связанного списка\n"
   ]
  },
  {
   "cell_type": "code",
   "execution_count": 1,
   "outputs": [
    {
     "data": {
      "text/plain": "a->b->с->None"
     },
     "execution_count": 1,
     "metadata": {},
     "output_type": "execute_result"
    }
   ],
   "source": [
    "class Node:\n",
    "    def __init__(self, data):\n",
    "        self.data = data\n",
    "        self.next = None\n",
    "\n",
    "    def __repr__(self):\n",
    "        return self.data\n",
    "\n",
    "class LinkedList:\n",
    "    def __init__(self):\n",
    "        self.head = None\n",
    "\n",
    "    def __repr__(self):\n",
    "        node = self.head\n",
    "        nodes = []\n",
    "        while node is not None:\n",
    "            nodes.append(node.data)\n",
    "            node = node.next\n",
    "        nodes.append('None')\n",
    "\n",
    "        return '->'.join(nodes)\n",
    "\n",
    "# Использование\n",
    "\n",
    "link_list = LinkedList()\n",
    "\n",
    "node_1 = Node('a')\n",
    "link_list.head = node_1\n",
    "\n",
    "node_2 = Node('b')\n",
    "node_1.next = node_2\n",
    "\n",
    "node_3 = Node('с')\n",
    "node_2.next = node_3\n",
    "\n",
    "link_list"
   ],
   "metadata": {
    "collapsed": false,
    "pycharm": {
     "name": "#%%\n"
    }
   }
  },
  {
   "cell_type": "markdown",
   "source": [
    "2. Более удобный вариант создания списка на основе массива nodes"
   ],
   "metadata": {
    "collapsed": false
   }
  },
  {
   "cell_type": "code",
   "execution_count": 2,
   "outputs": [
    {
     "data": {
      "text/plain": "1->2->3->None"
     },
     "execution_count": 2,
     "metadata": {},
     "output_type": "execute_result"
    }
   ],
   "source": [
    "class LinkedList:\n",
    "    def __init__(self, nodes=None):\n",
    "        self.head = None\n",
    "        if nodes is not None:\n",
    "            node = Node(data=nodes.pop(0))\n",
    "            self.head = node\n",
    "            for item in nodes:\n",
    "                node.next = Node(data=item)\n",
    "                node = node.next\n",
    "\n",
    "\n",
    "    def __repr__(self):\n",
    "        node = self.head\n",
    "        nodes = []\n",
    "        while node is not None:\n",
    "            nodes.append(node.data)\n",
    "            node = node.next\n",
    "        nodes.append('None')\n",
    "\n",
    "        return '->'.join(nodes)\n",
    "\n",
    "l_list = LinkedList(nodes=['1', '2', '3'])\n",
    "l_list"
   ],
   "metadata": {
    "collapsed": false,
    "pycharm": {
     "name": "#%%\n"
    }
   }
  },
  {
   "cell_type": "markdown",
   "source": [
    "3. Итерирование по списку"
   ],
   "metadata": {
    "collapsed": false,
    "pycharm": {
     "name": "#%% md\n"
    }
   }
  },
  {
   "cell_type": "code",
   "execution_count": 3,
   "outputs": [
    {
     "name": "stdout",
     "output_type": "stream",
     "text": [
      "1\n",
      "2\n",
      "3\n"
     ]
    }
   ],
   "source": [
    "class LinkedList:\n",
    "    def __init__(self, nodes=None):\n",
    "        self.head = None\n",
    "        if nodes is not None:\n",
    "            node = Node(data=nodes.pop(0))\n",
    "            self.head = node\n",
    "            for item in nodes:\n",
    "                node.next = Node(data=item)\n",
    "                node = node.next\n",
    "\n",
    "\n",
    "    def __repr__(self):\n",
    "        node = self.head\n",
    "        nodes = []\n",
    "        while node is not None:\n",
    "            nodes.append(node.data)\n",
    "            node = node.next\n",
    "        nodes.append('None')\n",
    "\n",
    "        return '->'.join(nodes)\n",
    "\n",
    "    def __iter__(self):\n",
    "        node = self.head\n",
    "\n",
    "        while node is not None:\n",
    "            yield node\n",
    "            node = node.next\n",
    "\n",
    "\n",
    "l_list = LinkedList(nodes=['1', '2', '3'])\n",
    "for element in l_list:\n",
    "    print(element)"
   ],
   "metadata": {
    "collapsed": false,
    "pycharm": {
     "name": "#%%\n"
    }
   }
  },
  {
   "cell_type": "markdown",
   "source": [
    "4. Вставка элемента в список"
   ],
   "metadata": {
    "collapsed": false,
    "pycharm": {
     "name": "#%% md\n"
    }
   }
  },
  {
   "cell_type": "code",
   "execution_count": 4,
   "outputs": [],
   "source": [
    "class LinkedList:\n",
    "    def __init__(self, nodes=None):\n",
    "        self.head = None\n",
    "        if nodes is not None:\n",
    "            node = Node(data=nodes.pop(0))\n",
    "            self.head = node\n",
    "            for item in nodes:\n",
    "                node.next = Node(data=item)\n",
    "                node = node.next\n",
    "\n",
    "\n",
    "    def __repr__(self):\n",
    "        node = self.head\n",
    "        nodes = []\n",
    "        while node is not None:\n",
    "            nodes.append(node.data)\n",
    "            node = node.next\n",
    "        nodes.append('None')\n",
    "\n",
    "        return '->'.join(nodes)\n",
    "\n",
    "    def __iter__(self):\n",
    "        node = self.head\n",
    "\n",
    "        while node is not None:\n",
    "            yield node\n",
    "            node = node.next\n",
    "\n",
    "    def add_first(self, new_node):\n",
    "        \"\"\"Вставка элемента в начало списка\"\"\"\n",
    "        new_node.next = self.head\n",
    "        self.head = new_node\n",
    "\n",
    "    def add_last(self, new_node):\n",
    "        \"\"\"Вставка элемента в конец списка\"\"\"\n",
    "        if self.head is None:\n",
    "            self.head = new_node\n",
    "            return\n",
    "\n",
    "        for current_node in self:\n",
    "            pass\n",
    "\n",
    "        current_node.next = new_node"
   ],
   "metadata": {
    "collapsed": false,
    "pycharm": {
     "name": "#%%\n"
    }
   }
  }
 ],
 "metadata": {
  "kernelspec": {
   "display_name": "Python 3",
   "language": "python",
   "name": "python3"
  },
  "language_info": {
   "codemirror_mode": {
    "name": "ipython",
    "version": 2
   },
   "file_extension": ".py",
   "mimetype": "text/x-python",
   "name": "python",
   "nbconvert_exporter": "python",
   "pygments_lexer": "ipython2",
   "version": "2.7.6"
  }
 },
 "nbformat": 4,
 "nbformat_minor": 0
}